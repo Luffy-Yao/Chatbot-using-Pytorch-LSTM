{
  "nbformat": 4,
  "nbformat_minor": 0,
  "metadata": {
    "colab": {
      "name": "mylstm.ipynb",
      "version": "0.3.2",
      "provenance": [],
      "collapsed_sections": [],
      "toc_visible": true
    },
    "language_info": {
      "codemirror_mode": {
        "name": "ipython",
        "version": 3
      },
      "file_extension": ".py",
      "mimetype": "text/x-python",
      "name": "python",
      "nbconvert_exporter": "python",
      "pygments_lexer": "ipython3",
      "version": "3.6.5"
    },
    "kernelspec": {
      "name": "python3",
      "display_name": "Python 3"
    },
    "accelerator": "GPU"
  },
  "cells": [
    {
      "cell_type": "markdown",
      "metadata": {
        "id": "pP2qpQes7YPV",
        "colab_type": "text"
      },
      "source": [
        "# **Collab code for mounting drive**"
      ]
    },
    {
      "cell_type": "code",
      "metadata": {
        "id": "0MfH1Jl4UpHD",
        "colab_type": "code",
        "outputId": "a5473f67-848d-495c-b948-43468ad048a7",
        "colab": {
          "base_uri": "https://localhost:8080/",
          "height": 228
        }
      },
      "source": [
        "!apt-get install -y -qq software-properties-common python-software-properties module-init-tools\n",
        "!add-apt-repository -y ppa:alessandro-strada/ppa 2>&1 > /dev/null\n",
        "!apt-get update -qq 2>&1 > /dev/null\n",
        "!apt-get -y install -qq google-drive-ocamlfuse fuse\n",
        "from google.colab import auth\n",
        "auth.authenticate_user()\n",
        "from oauth2client.client import GoogleCredentials\n",
        "creds = GoogleCredentials.get_application_default()\n",
        "import getpass\n",
        "!google-drive-ocamlfuse -headless -id={creds.client_id} -secret={creds.client_secret} < /dev/null 2>&1 | grep URL\n",
        "vcode = getpass.getpass()\n",
        "!echo {vcode} | google-drive-ocamlfuse -headless -id={creds.client_id} -secret={creds.client_secret}\n",
        "\n"
      ],
      "execution_count": 1,
      "outputs": [
        {
          "output_type": "stream",
          "text": [
            "E: Package 'python-software-properties' has no installation candidate\n",
            "Selecting previously unselected package google-drive-ocamlfuse.\n",
            "(Reading database ... 130911 files and directories currently installed.)\n",
            "Preparing to unpack .../google-drive-ocamlfuse_0.7.3-0ubuntu3~ubuntu18.04.1_amd64.deb ...\n",
            "Unpacking google-drive-ocamlfuse (0.7.3-0ubuntu3~ubuntu18.04.1) ...\n",
            "Setting up google-drive-ocamlfuse (0.7.3-0ubuntu3~ubuntu18.04.1) ...\n",
            "Processing triggers for man-db (2.8.3-2ubuntu0.1) ...\n",
            "Please, open the following URL in a web browser: https://accounts.google.com/o/oauth2/auth?client_id=32555940559.apps.googleusercontent.com&redirect_uri=urn%3Aietf%3Awg%3Aoauth%3A2.0%3Aoob&scope=https%3A%2F%2Fwww.googleapis.com%2Fauth%2Fdrive&response_type=code&access_type=offline&approval_prompt=force\n",
            "··········\n",
            "Please, open the following URL in a web browser: https://accounts.google.com/o/oauth2/auth?client_id=32555940559.apps.googleusercontent.com&redirect_uri=urn%3Aietf%3Awg%3Aoauth%3A2.0%3Aoob&scope=https%3A%2F%2Fwww.googleapis.com%2Fauth%2Fdrive&response_type=code&access_type=offline&approval_prompt=force\n",
            "Please enter the verification code: Access token retrieved correctly.\n"
          ],
          "name": "stdout"
        }
      ]
    },
    {
      "cell_type": "code",
      "metadata": {
        "id": "qnmra-t6UUKX",
        "colab_type": "code",
        "colab": {}
      },
      "source": [
        "%matplotlib inline"
      ],
      "execution_count": 0,
      "outputs": []
    },
    {
      "cell_type": "code",
      "metadata": {
        "id": "6xCQ5O9IW6_2",
        "colab_type": "code",
        "colab": {}
      },
      "source": [
        "!mkdir -p drive\n",
        "!google-drive-ocamlfuse drive\n"
      ],
      "execution_count": 0,
      "outputs": []
    },
    {
      "cell_type": "code",
      "metadata": {
        "id": "XsfKODScdK3Q",
        "colab_type": "code",
        "outputId": "4cad29f4-345f-40a8-bfda-9c0884b061ae",
        "colab": {
          "base_uri": "https://localhost:8080/",
          "height": 35
        }
      },
      "source": [
        "import shutil\n",
        "source = \"/content/drive/Colab Notebooks/assignment 5 chatbot/chatDataset.txt\"\n",
        "shutil.copy(source, \"/content/\")\n",
        " "
      ],
      "execution_count": 4,
      "outputs": [
        {
          "output_type": "execute_result",
          "data": {
            "text/plain": [
              "'/content/chatDataset.txt'"
            ]
          },
          "metadata": {
            "tags": []
          },
          "execution_count": 4
        }
      ]
    },
    {
      "cell_type": "code",
      "metadata": {
        "id": "xsKlSXiLUUKc",
        "colab_type": "code",
        "colab": {}
      },
      "source": [
        "from __future__ import absolute_import\n",
        "from __future__ import division\n",
        "from __future__ import print_function\n",
        "from __future__ import unicode_literals\n",
        "\n",
        "import torch\n",
        "from torch.jit import script, trace\n",
        "import torch.nn as nn\n",
        "from torch import optim\n",
        "import torch.nn.functional as F\n",
        "import csv\n",
        "import random\n",
        "import re\n",
        "import os\n",
        "import unicodedata\n",
        "import codecs\n",
        "from io import open\n",
        "import itertools\n",
        "import math\n",
        "import pickle\n",
        "from torch.autograd import Variable\n",
        "\n",
        "USE_CUDA = torch.cuda.is_available()\n",
        "device = torch.device(\"cuda\" if USE_CUDA else \"cpu\")"
      ],
      "execution_count": 0,
      "outputs": []
    },
    {
      "cell_type": "markdown",
      "metadata": {
        "id": "g55MiyIGUUKe",
        "colab_type": "text"
      },
      "source": [
        "Load & Preprocess Data\n",
        "----------------------\n",
        "\n",
        "The `Cornell Movie-Dialogs\n",
        "Corpus <https://www.cs.cornell.edu/~cristian/Cornell_Movie-Dialogs_Corpus.html>`__\n",
        "is a rich dataset of movie character dialog:\n",
        "\n",
        "-  220,579 conversational exchanges between 10,292 pairs of movie\n",
        "   characters\n",
        "-  9,035 characters from 617 movies\n",
        "-  304,713 total utterances\n",
        "\n",
        "This dataset is large and diverse, and there is a great variation of\n",
        "language formality, time periods, sentiment, etc. Our hope is that this\n",
        "diversity makes a model robust to many forms of inputs and queries.\n",
        "\n",
        "We have already processed and extracted the dataset for you. \n",
        "\n",
        "\n",
        "\n",
        "Note that we are dealing with sequences of **words**, which do not have\n",
        "an implicit mapping to a discrete numerical space. Thus, we must create\n",
        "one by mapping each unique word that we encounter in our dataset to an\n",
        "index value.\n",
        "\n",
        "For this we define a ``Voc`` class, which keeps a mapping from words to\n",
        "indexes, a reverse mapping of indexes to words, a count of each word and\n",
        "a total word count. The class provides methods for adding a word to the\n",
        "vocabulary (``addWord``), adding all words in a sentence\n",
        "(``addSentence``) and trimming infrequently seen words (``trim``). More\n",
        "on trimming later."
      ]
    },
    {
      "cell_type": "markdown",
      "metadata": {
        "id": "38aiWJ1mdbAa",
        "colab_type": "text"
      },
      "source": [
        "# **Vocabulary Class**"
      ]
    },
    {
      "cell_type": "code",
      "metadata": {
        "id": "-xVqfoSuUUKf",
        "colab_type": "code",
        "colab": {}
      },
      "source": [
        "# Default word tokens\n",
        "PAD_token = 0  # Used for padding short sentences\n",
        "SOS_token = 1  # Start-of-sentence token\n",
        "EOS_token = 2  # End-of-sentence token\n",
        "\n",
        "class Voc:\n",
        "    def __init__(self):        \n",
        "        self.trimmed = False\n",
        "        self.word2index = {}\n",
        "        self.word2count = {}\n",
        "        self.index2word = {PAD_token: \"PAD\", SOS_token: \"SOS\", EOS_token: \"EOS\"}\n",
        "        self.num_words = 3  # Count SOS, EOS, PAD\n",
        "\n",
        "    def addSentence(self, sentence):\n",
        "        for word in sentence.split(' '):\n",
        "            self.addWord(word)\n",
        "\n",
        "    def addWord(self, word):\n",
        "        if word not in self.word2index:\n",
        "            self.word2index[word] = self.num_words\n",
        "            self.word2count[word] = 1\n",
        "            self.index2word[self.num_words] = word\n",
        "            self.num_words += 1\n",
        "        else:\n",
        "            self.word2count[word] += 1\n",
        "\n",
        "    # Remove words below a certain count threshold\n",
        "    def trim(self, min_count):\n",
        "        if self.trimmed:\n",
        "            return\n",
        "        self.trimmed = True\n",
        "\n",
        "        keep_words = []\n",
        "\n",
        "        for k, v in self.word2count.items():\n",
        "            if v >= min_count:\n",
        "                keep_words.append(k)\n",
        "\n",
        "        print('keep_words {} / {} = {:.4f}'.format(\n",
        "            len(keep_words), len(self.word2index), len(keep_words) / len(self.word2index)\n",
        "        ))\n",
        "\n",
        "        # Reinitialize dictionaries\n",
        "        self.word2index = {}\n",
        "        self.word2count = {}\n",
        "        self.index2word = {PAD_token: \"PAD\", SOS_token: \"SOS\", EOS_token: \"EOS\"}\n",
        "        self.num_words = 3 # Count default tokens\n",
        "\n",
        "        for word in keep_words:\n",
        "            self.addWord(word)"
      ],
      "execution_count": 0,
      "outputs": []
    },
    {
      "cell_type": "markdown",
      "metadata": {
        "id": "yQJnhhKYUUKi",
        "colab_type": "text"
      },
      "source": [
        "Now we can assemble our vocabulary and query/response sentence pairs.\n",
        "Before we are ready to use this data, we must perform some\n",
        "preprocessing.\n",
        "\n",
        "First, we must convert the Unicode strings to ASCII using\n",
        "``unicodeToAscii``. Next, we should convert all letters to lowercase and\n",
        "trim all non-letter characters except for basic punctuation\n",
        "(``normalizeString``). Finally, to aid in training convergence, we will\n",
        "filter out sentences with length greater than the ``MAX_LENGTH``\n",
        "threshold (``filterPairs``).\n"
      ]
    },
    {
      "cell_type": "markdown",
      "metadata": {
        "id": "FuPff2jpdfSl",
        "colab_type": "text"
      },
      "source": [
        "# **Custom functions to preprocess Strings**"
      ]
    },
    {
      "cell_type": "code",
      "metadata": {
        "id": "T0c7IjGLUUKj",
        "colab_type": "code",
        "colab": {}
      },
      "source": [
        "MAX_LENGTH = 10  # Maximum sentence length to consider\n",
        "\n",
        "def unicodeToAscii(s):\n",
        "    return ''.join(\n",
        "        c for c in unicodedata.normalize('NFD', s)\n",
        "        if unicodedata.category(c) != 'Mn'\n",
        "    )\n",
        "# Lowercase, trim, and remove non-letter characters\n",
        "def normalizeString(s):\n",
        "    s = unicodeToAscii(s.lower().strip())\n",
        "    s = re.sub(r\"([.!?])\", r\" \\1\", s)\n",
        "    s = re.sub(r\"[^a-zA-Z.!?]+\", r\" \", s)\n",
        "    s = re.sub(r\"\\s+\", r\" \", s).strip()\n",
        "    return s\n",
        "\n",
        "# Read query/response pairs and return a voc object\n",
        "def readVocs(datafile):\n",
        "    print(\"Reading lines...\")    \n",
        "    # Read the file and split into lines\n",
        "    lines = open(datafile, encoding='utf-8').\\\n",
        "        read().strip().split('\\n')\n",
        "    # Split every line into pairs and normalize\n",
        "    pairs = [[normalizeString(s) for s in l.split('\\t')] for l in lines]\n",
        "    voc = Voc()\n",
        "    return voc, pairs\n",
        "\n",
        "# Returns True iff both sentences in a pair 'p' are under the MAX_LENGTH threshold\n",
        "def filterPair(p):\n",
        "    # Input sequences need to preserve the last word for EOS token\n",
        "    return len(p[0].split(' ')) < MAX_LENGTH and len(p[1].split(' ')) < MAX_LENGTH\n",
        "\n",
        "# Filter pairs using filterPair condition\n",
        "def filterPairs(pairs):\n",
        "    return [pair for pair in pairs if filterPair(pair)]\n",
        "\n",
        "# Using the functions defined above, return a populated voc object and pairs list\n",
        "def loadPrepareData(datafile):\n",
        "    print(\"Start preparing training data ...\")\n",
        "    voc, pairs = readVocs(datafile)\n",
        "    print(\"Read {!s} sentence pairs\".format(len(pairs)))\n",
        "    pairs = filterPairs(pairs)\n",
        "    print(\"Trimmed to {!s} sentence pairs\".format(len(pairs)))\n",
        "    print(\"Counting words...\")\n",
        "    for pair in pairs:\n",
        "        voc.addSentence(pair[0])\n",
        "        voc.addSentence(pair[1])\n",
        "    print(\"Counted words:\", voc.num_words)\n",
        "    return voc, pairs\n",
        "\n",
        "\n"
      ],
      "execution_count": 0,
      "outputs": []
    },
    {
      "cell_type": "markdown",
      "metadata": {
        "id": "N26s_MXKdqfV",
        "colab_type": "text"
      },
      "source": [
        "# **Reading chat file**"
      ]
    },
    {
      "cell_type": "code",
      "metadata": {
        "id": "KJ8iJn6sd2rG",
        "colab_type": "code",
        "outputId": "5f1f5f33-c800-4f0b-909e-df1f6ed723b5",
        "colab": {
          "base_uri": "https://localhost:8080/",
          "height": 329
        }
      },
      "source": [
        "# Load/Assemble voc and pairs\n",
        "\n",
        "datafile = 'chatDataset.txt'\n",
        "voc, pairs = loadPrepareData(datafile)\n",
        "# Print some pairs to validate\n",
        "print(\"\\npairs:\")\n",
        "for pair in pairs[:10]:\n",
        "    print(pair)"
      ],
      "execution_count": 4,
      "outputs": [
        {
          "output_type": "stream",
          "text": [
            "Start preparing training data ...\n",
            "Reading lines...\n",
            "Read 221282 sentence pairs\n",
            "Trimmed to 64271 sentence pairs\n",
            "Counting words...\n",
            "Counted words: 18008\n",
            "\n",
            "pairs:\n",
            "['there .', 'where ?']\n",
            "['you have my word . as a gentleman', 'you re sweet .']\n",
            "['hi .', 'looks like things worked out tonight huh ?']\n",
            "['you know chastity ?', 'i believe we share an art instructor']\n",
            "['have fun tonight ?', 'tons']\n",
            "['well no . . .', 'then that s all you had to say .']\n",
            "['then that s all you had to say .', 'but']\n",
            "['but', 'you always been this selfish ?']\n",
            "['do you listen to this crap ?', 'what crap ?']\n",
            "['what good stuff ?', 'the real you .']\n"
          ],
          "name": "stdout"
        }
      ]
    },
    {
      "cell_type": "code",
      "metadata": {
        "id": "_6GxL6Glzdpz",
        "colab_type": "code",
        "colab": {}
      },
      "source": [
        ""
      ],
      "execution_count": 0,
      "outputs": []
    },
    {
      "cell_type": "markdown",
      "metadata": {
        "id": "haHlxJgqUUKo",
        "colab_type": "text"
      },
      "source": [
        "Another tactic that is beneficial to achieving faster convergence during\n",
        "training is trimming rarely used words out of our vocabulary. Decreasing\n",
        "the feature space will also soften the difficulty of the function that\n",
        "the model must learn to approximate. We will do this as a two-step\n",
        "process:\n",
        "\n",
        "1) Trim words used under ``MIN_COUNT`` threshold using the ``voc.trim``\n",
        "   function.\n",
        "\n",
        "2) Filter out pairs with trimmed words."
      ]
    },
    {
      "cell_type": "code",
      "metadata": {
        "id": "HLJUsY8SUUKp",
        "colab_type": "code",
        "outputId": "07576ddb-ef91-4c00-f230-da18cd230503",
        "colab": {
          "base_uri": "https://localhost:8080/",
          "height": 52
        }
      },
      "source": [
        "#input_variable\n",
        "\n",
        "MIN_COUNT = 3    # Minimum word count threshold for trimming\n",
        "\n",
        "def trimRareWords(voc, pairs, MIN_COUNT):\n",
        "    # Trim words used under the MIN_COUNT from the voc\n",
        "    voc.trim(MIN_COUNT)\n",
        "    # Filter out pairs with trimmed words\n",
        "    keep_pairs = []\n",
        "    for pair in pairs:\n",
        "        input_sentence = pair[0]\n",
        "        output_sentence = pair[1]\n",
        "        keep_input = True\n",
        "        keep_output = True\n",
        "        # Check input sentence\n",
        "        for word in input_sentence.split(' '):\n",
        "            if word not in voc.word2index:\n",
        "                keep_input = False\n",
        "                break\n",
        "        # Check output sentence\n",
        "        for word in output_sentence.split(' '):\n",
        "            if word not in voc.word2index:\n",
        "                keep_output = False\n",
        "                break\n",
        "\n",
        "        # Only keep pairs that do not contain trimmed word(s) in their input or output sentence\n",
        "        if keep_input and keep_output:\n",
        "            keep_pairs.append(pair)\n",
        "\n",
        "    print(\"Trimmed from {} pairs to {}, {:.4f} of total\".format(len(pairs), len(keep_pairs), len(keep_pairs) / len(pairs)))\n",
        "    return keep_pairs\n",
        "\n",
        "\n",
        "# Trim voc and pairs\n",
        "pairs = trimRareWords(voc, pairs, MIN_COUNT)"
      ],
      "execution_count": 5,
      "outputs": [
        {
          "output_type": "stream",
          "text": [
            "keep_words 7823 / 18005 = 0.4345\n",
            "Trimmed from 64271 pairs to 53165, 0.8272 of total\n"
          ],
          "name": "stdout"
        }
      ]
    },
    {
      "cell_type": "markdown",
      "metadata": {
        "id": "IMiPPAPCz7Bs",
        "colab_type": "text"
      },
      "source": [
        "# **Splitting testing and training pairs**"
      ]
    },
    {
      "cell_type": "code",
      "metadata": {
        "id": "Cpymeeyjz_Ks",
        "colab_type": "code",
        "colab": {}
      },
      "source": [
        "\n",
        "testpairs = pairs[45000:]\n",
        "pairs  = pairs[:45000]\n"
      ],
      "execution_count": 0,
      "outputs": []
    },
    {
      "cell_type": "markdown",
      "metadata": {
        "id": "wsvxx65kUUKs",
        "colab_type": "text"
      },
      "source": [
        "# **Prepare Data for Models**\n",
        "-----------------------\n",
        "If we simply convert our English sentences to tensors by converting\n",
        "words to their indexes(\\ ``indexesFromSentence``) and zero-pad, our\n",
        "tensor would have shape *(batch_size, max_length)* and indexing the\n",
        "first dimension would return a full sequence across all time-steps.\n",
        "However, we need to be able to index our batch along time, and across\n",
        "all sequences in the batch. Therefore, we transpose our input batch\n",
        "shape to *(max_length, batch_size)*, so that indexing across the first\n",
        "dimension returns a time step across all sentences in the batch. We\n",
        "handle this transpose implicitly in the ``zeroPadding`` function.\n",
        "\n",
        "\n",
        "![title](img/seq2seq_batches.png)\n",
        "\n",
        "\n",
        "The ``inputVar`` function handles the process of converting sentences to\n",
        "tensor, ultimately creating a correctly shaped zero-padded tensor. It\n",
        "also returns a tensor of ``lengths`` for each of the sequences in the\n",
        "batch which will be passed to our decoder later.\n",
        "\n",
        "The ``outputVar`` function performs a similar function to ``inputVar``,\n",
        "but instead of returning a ``lengths`` tensor, it returns a binary mask\n",
        "tensor and a maximum target sentence length. The binary mask tensor has\n",
        "the same shape as the output target tensor, but every element that is a\n",
        "*PAD_token* is 0 and all others are 1.\n",
        "\n",
        "``batch2TrainData`` simply takes a bunch of pairs and returns the input\n",
        "and target tensors using the aforementioned functions."
      ]
    },
    {
      "cell_type": "markdown",
      "metadata": {
        "id": "n7HNHHqIepTv",
        "colab_type": "text"
      },
      "source": [
        "# **Generating batches**"
      ]
    },
    {
      "cell_type": "code",
      "metadata": {
        "id": "zjbTwFVxUUKt",
        "colab_type": "code",
        "colab": {}
      },
      "source": [
        "def indexesFromSentence(voc, sentence):\n",
        "    return [voc.word2index[word] for word in sentence.split(' ')] + [EOS_token]\n",
        "\n",
        "\n",
        "def zeroPadding(l, fillvalue=PAD_token):\n",
        "    return list(itertools.zip_longest(*l, fillvalue=fillvalue))\n",
        "\n",
        "def binaryMatrix(l, value=PAD_token):\n",
        "    m = []\n",
        "    for i, seq in enumerate(l):\n",
        "        m.append([])\n",
        "        for token in seq:\n",
        "            if token == PAD_token:\n",
        "                m[i].append(0)\n",
        "            else:\n",
        "                m[i].append(1)\n",
        "    return m\n",
        "\n",
        "# Returns padded input sequence tensor and lengths\n",
        "def inputVar(l, voc):\n",
        "    indexes_batch = [indexesFromSentence(voc, sentence) for sentence in l]\n",
        "    lengths = torch.tensor([len(indexes) for indexes in indexes_batch])\n",
        "    padList = zeroPadding(indexes_batch)\n",
        "    padVar = torch.LongTensor(padList)\n",
        "    return padVar, lengths\n",
        "\n",
        "# Returns padded target sequence tensor, padding mask, and max target length\n",
        "def outputVar(l, voc):\n",
        "    indexes_batch = [indexesFromSentence(voc, sentence) for sentence in l]\n",
        "    max_target_len = max([len(indexes) for indexes in indexes_batch])\n",
        "    padList = zeroPadding(indexes_batch)\n",
        "    mask = binaryMatrix(padList)\n",
        "    mask = torch.ByteTensor(mask)\n",
        "    padVar = torch.LongTensor(padList)\n",
        "    return padVar, mask, max_target_len\n",
        "\n",
        "# Returns all items for a given batch of pairs\n",
        "def batch2TrainData(voc, pair_batch):\n",
        "    pair_batch.sort(key=lambda x: len(x[0].split(\" \")), reverse=True)\n",
        "    input_batch, output_batch = [], []\n",
        "    for pair in pair_batch:\n",
        "        input_batch.append(pair[0])\n",
        "        output_batch.append(pair[1])\n",
        "    inp, lengths = inputVar(input_batch, voc)\n",
        "    output, mask, max_target_len = outputVar(output_batch, voc)\n",
        "    return inp, lengths, output, mask, max_target_len\n",
        "\n",
        "\n",
        "# Example for validation\n",
        "small_batch_size = 5\n",
        "batches = batch2TrainData(voc, [random.choice(pairs) for _ in range(small_batch_size)])\n",
        "input_variable, lengths, target_variable, mask, max_target_len = batches\n"
      ],
      "execution_count": 0,
      "outputs": []
    },
    {
      "cell_type": "code",
      "metadata": {
        "id": "XGMtPVk78Jks",
        "colab_type": "code",
        "colab": {}
      },
      "source": [
        "pair_batch = pairs[:5]\n",
        "print(pair_batch)\n",
        "pair_batch.sort(key=lambda x: len(x[0].split(\" \")), reverse=True)\n",
        "print(pair_batch)\n",
        "print(target_variable)\n",
        "print(mask)\n",
        "print(max_target_len)\n"
      ],
      "execution_count": 0,
      "outputs": []
    },
    {
      "cell_type": "markdown",
      "metadata": {
        "id": "aR55ufDqUUKw",
        "colab_type": "text"
      },
      "source": [
        "# **Define Models**\n",
        "-------------\n",
        "\n",
        "Seq2Seq Model\n",
        "\n",
        "\n",
        "The brains of our chatbot is a sequence-to-sequence (seq2seq) model. The\n",
        "goal of a seq2seq model is to take a variable-length sequence as an\n",
        "input, and return a variable-length sequence as an output using a\n",
        "fixed-sized model.\n",
        "\n",
        "`Sutskever et al. <https://arxiv.org/abs/1409.3215>`__ discovered that\n",
        "by using two separate recurrent neural nets together, we can accomplish\n",
        "this task. One RNN acts as an **encoder**, which encodes a variable\n",
        "length input sequence to a fixed-length context vector. In theory, this\n",
        "context vector (the final hidden layer of the RNN) will contain semantic\n",
        "information about the query sentence that is input to the bot. The\n",
        "second RNN is a **decoder**, which takes an input word and the context\n",
        "vector, and returns a guess for the next word in the sequence and a\n",
        "hidden state to use in the next iteration.\n",
        "\n",
        "![title](img/seq2seq_ts.png)\n",
        "\n"
      ]
    },
    {
      "cell_type": "markdown",
      "metadata": {
        "id": "x2JjC-S8UUKw",
        "colab_type": "text"
      },
      "source": [
        "Encoder\n",
        "\n",
        "\n",
        "The encoder RNN iterates through the input sentence one token\n",
        "(e.g. word) at a time, at each time step outputting an “output” vector\n",
        "and a “hidden state” vector. The hidden state vector is then passed to\n",
        "the next time step, while the output vector is recorded. The encoder\n",
        "transforms the context it saw at each point in the sequence into a set\n",
        "of points in a high-dimensional space, which the decoder will use to\n",
        "generate a meaningful output for the given task.\n",
        "\n",
        "At the heart of our encoder is a multi-layered Gated Recurrent Unit,\n",
        "invented by `Cho et al. <https://arxiv.org/pdf/1406.1078v3.pdf>`__ in\n",
        "2014. We will use a bidirectional variant of the GRU, meaning that there\n",
        "are essentially two independent RNNs: one that is fed the input sequence\n",
        "in normal sequential order, and one that is fed the input sequence in\n",
        "reverse order. The outputs of each network are summed at each time step.\n",
        "Using a bidirectional GRU will give us the advantage of encoding both\n",
        "past and future context.\n",
        "\n",
        "![title](img/RNN-bidirectional.png)\n",
        "\n",
        "\n",
        "Note that an ``embedding`` layer is used to encode our word indices in\n",
        "an arbitrarily sized feature space. For our models, this layer will map\n",
        "each word to a feature space of size *hidden_size*. When trained, these\n",
        "values should encode semantic similarity between similar meaning words.\n",
        "\n",
        "Finally, if passing a padded batch of sequences to an RNN module, we\n",
        "must pack and unpack padding around the RNN pass using\n",
        "``nn.utils.rnn.pack_padded_sequence`` and\n",
        "``nn.utils.rnn.pad_packed_sequence`` respectively.\n",
        "\n",
        "**Computation Graph:**\n",
        "\n",
        "   1) Convert word indexes to embeddings.\n",
        "   2) Pack padded batch of sequences for RNN module.\n",
        "   3) Forward pass through GRU.\n",
        "   4) Unpack padding.\n",
        "   5) Sum bidirectional GRU outputs.\n",
        "   6) Return output and final hidden state.\n",
        "\n",
        "**Inputs:**\n",
        "\n",
        "-  ``input_seq``: batch of input sentences; shape=\\ *(max_length,\n",
        "   batch_size)*\n",
        "-  ``input_lengths``: list of sentence lengths corresponding to each\n",
        "   sentence in the batch; shape=\\ *(batch_size)*\n",
        "-  ``hidden``: hidden state; shape=\\ *(n_layers x num_directions,\n",
        "   batch_size, hidden_size)*\n",
        "\n",
        "**Outputs:**\n",
        "\n",
        "-  ``outputs``: output features from the last hidden layer of the GRU\n",
        "   (sum of bidirectional outputs); shape=\\ *(max_length, batch_size,\n",
        "   hidden_size)*\n",
        "-  ``hidden``: updated hidden state from GRU; shape=\\ *(n_layers x\n",
        "   num_directions, batch_size, hidden_size)*"
      ]
    },
    {
      "cell_type": "code",
      "metadata": {
        "id": "wHsQbbHgrXjY",
        "colab_type": "code",
        "colab": {}
      },
      "source": [
        ""
      ],
      "execution_count": 0,
      "outputs": []
    },
    {
      "cell_type": "markdown",
      "metadata": {
        "id": "0Arb62b3rYDX",
        "colab_type": "text"
      },
      "source": [
        "# **Encoder**"
      ]
    },
    {
      "cell_type": "code",
      "metadata": {
        "id": "sosjNS7NUUKz",
        "colab_type": "code",
        "colab": {}
      },
      "source": [
        "class EncoderRNN(nn.Module):\n",
        "    def __init__(self, hidden_size, embedding, n_layers=1, dropout=0):\n",
        "        super(EncoderRNN, self).__init__()\n",
        "        self.n_layers = n_layers\n",
        "        self.hidden_size = hidden_size\n",
        "        self.embedding = embedding\n",
        "        self.gru = nn.LSTM(hidden_size, hidden_size, n_layers,\n",
        "                          dropout=(0 if n_layers == 1 else dropout), bidirectional=True)\n",
        "\n",
        "    def forward(self, input_seq, input_lengths, hidden=None):\n",
        "        \n",
        "        embedded = self.embedding(input_seq)\n",
        "        \n",
        "        packed = nn.utils.rnn.pack_padded_sequence(embedded, input_lengths)\n",
        "        \n",
        "        outputs, hidden = self.gru(packed, hidden)\n",
        "        \n",
        "        outputs, _ = nn.utils.rnn.pad_packed_sequence(outputs)\n",
        "        \n",
        "        outputs = outputs[:, :, :self.hidden_size] + outputs[:, : ,self.hidden_size:]\n",
        "        \n",
        "        return outputs, hidden\n",
        "    def init_hidden(self):\n",
        "        \n",
        "        return (torch.zeros(self.num_layers, self.batch_size, self.hidden_dim),\n",
        "                torch.zeros(self.num_layers, self.batch_size, self.hidden_dim))"
      ],
      "execution_count": 0,
      "outputs": []
    },
    {
      "cell_type": "markdown",
      "metadata": {
        "id": "3IMo5H_JUUK1",
        "colab_type": "text"
      },
      "source": [
        "Decoder\n",
        "~~~~~~~\n",
        "\n",
        "The decoder RNN generates the response sentence in a token-by-token\n",
        "fashion. It uses the encoder’s context vectors, and internal hidden\n",
        "states to generate the next word in the sequence. It continues\n",
        "generating words until it outputs an *EOS_token*, representing the end\n",
        "of the sentence. A common problem with a vanilla seq2seq decoder is that\n",
        "if we rely soley on the context vector to encode the entire input\n",
        "sequence’s meaning, it is likely that we will have information loss.\n",
        "This is especially the case when dealing with long input sequences,\n",
        "greatly limiting the capability of our decoder.\n",
        "\n",
        "To combat this, `Bahdanau et al. <https://arxiv.org/abs/1409.0473>`__\n",
        "created an “attention mechanism” that allows the decoder to pay\n",
        "attention to certain parts of the input sequence, rather than using the\n",
        "entire fixed context at every step.\n",
        "\n",
        "At a high level, attention is calculated using the decoder’s current\n",
        "hidden state and the encoder’s outputs. The output attention weights\n",
        "have the same shape as the input sequence, allowing us to multiply them\n",
        "by the encoder outputs, giving us a weighted sum which indicates the\n",
        "parts of encoder output to pay attention to. `Sean\n",
        "Robertson’s <https://github.com/spro>`__ figure describes this very\n",
        "well:\n",
        "![title](img/attn2.png)"
      ]
    },
    {
      "cell_type": "markdown",
      "metadata": {
        "id": "3SnxT22mBa6x",
        "colab_type": "text"
      },
      "source": [
        "# **attention weights**"
      ]
    },
    {
      "cell_type": "code",
      "metadata": {
        "id": "MhlXIwPgUUK2",
        "colab_type": "code",
        "colab": {}
      },
      "source": [
        "class Attn(nn.Module):\n",
        "    def __init__(self, method, hidden_size):\n",
        "        super(Attn, self).__init__()\n",
        "        self.method = method\n",
        "        self.hidden_size = hidden_size\n",
        "        \n",
        "    def dot_score(self, hidden, encoder_output):\n",
        "        return torch.sum(hidden * encoder_output, dim=2)\n",
        "\n",
        "    def forward(self, hidden, encoder_outputs):\n",
        "        \n",
        "        attn_energies = self.dot_score(hidden, encoder_outputs)\n",
        "        attn_energies = attn_energies.t()\n",
        "        return F.softmax(attn_energies, dim=1).unsqueeze(1)      "
      ],
      "execution_count": 0,
      "outputs": []
    },
    {
      "cell_type": "markdown",
      "metadata": {
        "id": "D0UfrrIpUUK4",
        "colab_type": "text"
      },
      "source": [
        "Now that we have defined our attention submodule, we can implement the\n",
        "actual decoder model. For the decoder, we will manually feed our batch\n",
        "one time step at a time. This means that our embedded word tensor and\n",
        "GRU output will both have shape *(1, batch_size, hidden_size)*.\n",
        "\n",
        "**Computation Graph:**\n",
        "\n",
        "   1) Get embedding of current input word.\n",
        "   2) Forward through unidirectional GRU.\n",
        "   3) Calculate attention weights from the current GRU output from (2).\n",
        "   4) Multiply attention weights to encoder outputs to get new \"weighted sum\" context vector.\n",
        "   5) Concatenate weighted context vector and GRU output using Luong eq. 5.\n",
        "   6) Predict next word using Luong eq. 6 (without softmax).\n",
        "   7) Return output and final hidden state.\n",
        "\n",
        "**Inputs:**\n",
        "\n",
        "-  ``input_step``: one time step (one word) of input sequence batch;\n",
        "   shape=\\ *(1, batch_size)*\n",
        "-  ``last_hidden``: final hidden layer of GRU; shape=\\ *(n_layers x\n",
        "   num_directions, batch_size, hidden_size)*\n",
        "-  ``encoder_outputs``: encoder model’s output; shape=\\ *(max_length,\n",
        "   batch_size, hidden_size)*\n",
        "\n",
        "**Outputs:**\n",
        "\n",
        "-  ``output``: softmax normalized tensor giving probabilities of each\n",
        "   word being the correct next word in the decoded sequence;\n",
        "   shape=\\ *(batch_size, voc.num_words)*\n",
        "-  ``hidden``: final hidden state of GRU; shape=\\ *(n_layers x\n",
        "   num_directions, batch_size, hidden_size)*"
      ]
    },
    {
      "cell_type": "markdown",
      "metadata": {
        "id": "cmbRfBUgq-dn",
        "colab_type": "text"
      },
      "source": [
        "# **Decoder**"
      ]
    },
    {
      "cell_type": "code",
      "metadata": {
        "id": "6uvriR9lUUK5",
        "colab_type": "code",
        "colab": {}
      },
      "source": [
        "class LuongAttnDecoderRNN(nn.Module):\n",
        "    def __init__(self, attn_model, embedding, hidden_size, output_size, n_layers=1, dropout=0.1):\n",
        "        super(LuongAttnDecoderRNN, self).__init__()\n",
        "\n",
        "        \n",
        "        self.attn_model = attn_model\n",
        "        self.hidden_size = hidden_size\n",
        "        self.output_size = output_size\n",
        "        self.n_layers = n_layers\n",
        "        self.dropout = dropout\n",
        "\n",
        "       \n",
        "        self.embedding = embedding\n",
        "        self.embedding_dropout = nn.Dropout(dropout)\n",
        "        self.gru = nn.LSTM(hidden_size, hidden_size, n_layers, dropout=(0 if n_layers == 1 else dropout))#, bidirectional=True)\n",
        "        self.concat = nn.Linear(hidden_size * 2, hidden_size)\n",
        "        self.out = nn.Linear(hidden_size, output_size)\n",
        "        self.attn = Attn(attn_model, hidden_size)\n",
        "    \n",
        "    def forward(self, input_step, last_hidden, encoder_outputs):\n",
        "        embedded = self.embedding(input_step)\n",
        "        embedded = self.embedding_dropout(embedded)\n",
        "        rnn_output, hidden = self.gru(embedded, last_hidden)\n",
        "        attn_weights = self.attn(rnn_output, encoder_outputs)\n",
        "        context = attn_weights.bmm(encoder_outputs.transpose(0, 1))\n",
        "        rnn_output = rnn_output.squeeze(0)\n",
        "        context = context.squeeze(1)\n",
        "        concat_input = torch.cat((rnn_output, context), 1)\n",
        "        concat_output = torch.tanh(self.concat(concat_input))\n",
        "        output = self.out(concat_output)\n",
        "        output = F.softmax(output, dim=1)\n",
        "        return output, hidden"
      ],
      "execution_count": 0,
      "outputs": []
    },
    {
      "cell_type": "markdown",
      "metadata": {
        "id": "qEOP18l8UUK8",
        "colab_type": "text"
      },
      "source": [
        "# Define Training Procedure\n",
        "-------------------------\n",
        "\n",
        "Masked loss\n",
        "\n",
        "\n",
        "Since we are dealing with batches of padded sequences, we cannot simply\n",
        "consider all elements of the tensor when calculating loss. We define\n",
        "``maskNLLLoss`` to calculate our loss based on our decoder’s output\n",
        "tensor, the target tensor, and a binary mask tensor describing the\n",
        "padding of the target tensor. This loss function calculates the average\n",
        "negative log likelihood of the elements that correspond to a *1* in the\n",
        "mask tensor.\n",
        "\n",
        "\n"
      ]
    },
    {
      "cell_type": "code",
      "metadata": {
        "id": "dMKwBNIkUUK9",
        "colab_type": "code",
        "colab": {}
      },
      "source": [
        "def maskNLLLoss(inp, target, mask):\n",
        "    nTotal = mask.sum()\n",
        "    crossEntropy = -torch.log(torch.gather(inp, 1, target.view(-1, 1)).squeeze(1))\n",
        "    loss = crossEntropy.masked_select(mask).mean()\n",
        "    loss = loss.to(device)\n",
        "    return loss, nTotal.item()"
      ],
      "execution_count": 0,
      "outputs": []
    },
    {
      "cell_type": "markdown",
      "metadata": {
        "id": "p2igLJl7UUK_",
        "colab_type": "text"
      },
      "source": [
        "Single training iteration\n",
        "~~~~~~~~~~~~~~~~~~~~~~~~~\n",
        "\n",
        "The ``train`` function contains the algorithm for a single training\n",
        "iteration (a single batch of inputs).\n",
        "\n",
        "We will use a couple of clever tricks to aid in convergence:\n",
        "\n",
        "-  The first trick is using **teacher forcing**. This means that at some\n",
        "   probability, set by ``teacher_forcing_ratio``, we use the current\n",
        "   target word as the decoder’s next input rather than using the\n",
        "   decoder’s current guess. This technique acts as training wheels for\n",
        "   the decoder, aiding in more efficient training. However, teacher\n",
        "   forcing can lead to model instability during inference, as the\n",
        "   decoder may not have a sufficient chance to truly craft its own\n",
        "   output sequences during training. Thus, we must be mindful of how we\n",
        "   are setting the ``teacher_forcing_ratio``, and not be fooled by fast\n",
        "   convergence.\n",
        "\n",
        "-  The second trick that we implement is **gradient clipping**. This is\n",
        "   a commonly used technique for countering the “exploding gradient”\n",
        "   problem. In essence, by clipping or thresholding gradients to a\n",
        "   maximum value, we prevent the gradients from growing exponentially\n",
        "   and either overflow (NaN), or overshoot steep cliffs in the cost\n",
        "   function.\n",
        "\n",
        "\n",
        "\n",
        "**Sequence of Operations:**\n",
        "\n",
        "   1) Forward pass entire input batch through encoder.\n",
        "   2) Initialize decoder inputs as SOS_token, and hidden state as the encoder's final hidden state.\n",
        "   3) Forward input batch sequence through decoder one time step at a time.\n",
        "   4) If teacher forcing: set next decoder input as the current target; else: set next decoder input as current decoder output.\n",
        "   5) Calculate and accumulate loss.\n",
        "   6) Perform backpropagation.\n",
        "   7) Clip gradients.\n",
        "   8) Update encoder and decoder model parameters.\n",
        "\n"
      ]
    },
    {
      "cell_type": "markdown",
      "metadata": {
        "id": "_Q7ZQQO_q5Y9",
        "colab_type": "text"
      },
      "source": [
        "# **Train Function**"
      ]
    },
    {
      "cell_type": "code",
      "metadata": {
        "id": "PUbyiWguUULA",
        "colab_type": "code",
        "colab": {}
      },
      "source": [
        "def train(input_variable, lengths, target_variable, mask, max_target_len, encoder, decoder, embedding,\n",
        "          encoder_optimizer, decoder_optimizer, batch_size, clip, max_length=MAX_LENGTH):\n",
        "\n",
        "    \n",
        "    encoder_optimizer.zero_grad()\n",
        "    decoder_optimizer.zero_grad()\n",
        "\n",
        "  \n",
        "    input_variable = input_variable.to(device)\n",
        "    lengths = lengths.to(device)\n",
        "    target_variable = target_variable.to(device)\n",
        "    mask = mask.to(device)\n",
        "\n",
        "    \n",
        "    loss = 0\n",
        "    print_losses = []\n",
        "    n_totals = 0\n",
        "\n",
        "    \n",
        "    encoder_outputs, encoder_hidden = encoder(input_variable, lengths)\n",
        "\n",
        "    \n",
        "    decoder_input = torch.LongTensor([[SOS_token for _ in range(batch_size)]])\n",
        "    decoder_input = decoder_input.to(device)\n",
        "\n",
        "    \n",
        "    decoder_hidden = encoder_hidden[:decoder.n_layers]\n",
        "    use_teacher_forcing = True if random.random() < teacher_forcing_ratio else False\n",
        "\n",
        "    \n",
        "    if use_teacher_forcing:\n",
        "        for t in range(max_target_len):\n",
        "            decoder_output, decoder_hidden = decoder(\n",
        "                decoder_input, decoder_hidden, encoder_outputs\n",
        "            )\n",
        "            \n",
        "            decoder_input = target_variable[t].view(1, -1)\n",
        "            \n",
        "            mask_loss, nTotal = maskNLLLoss(decoder_output, target_variable[t], mask[t])\n",
        "            loss += mask_loss\n",
        "            print_losses.append(mask_loss.item() * nTotal)\n",
        "            n_totals += nTotal\n",
        "    else:\n",
        "        for t in range(max_target_len):\n",
        "            decoder_output, decoder_hidden = decoder(\n",
        "                decoder_input, decoder_hidden, encoder_outputs\n",
        "            )\n",
        "            \n",
        "            _, topi = decoder_output.topk(1)\n",
        "            decoder_input = torch.LongTensor([[topi[i][0] for i in range(batch_size)]])\n",
        "            decoder_input = decoder_input.to(device)\n",
        "            \n",
        "            mask_loss, nTotal = maskNLLLoss(decoder_output, target_variable[t], mask[t])\n",
        "            loss += mask_loss\n",
        "            print_losses.append(mask_loss.item() * nTotal)\n",
        "            n_totals += nTotal\n",
        "\n",
        "    \n",
        "    loss.backward()\n",
        "\n",
        "    \n",
        "    _ = nn.utils.clip_grad_norm_(encoder.parameters(), clip)\n",
        "    _ = nn.utils.clip_grad_norm_(decoder.parameters(), clip)\n",
        "\n",
        "    \n",
        "    encoder_optimizer.step()\n",
        "    decoder_optimizer.step()\n",
        "\n",
        "    return sum(print_losses) / n_totals"
      ],
      "execution_count": 0,
      "outputs": []
    },
    {
      "cell_type": "markdown",
      "metadata": {
        "id": "02kHrXWgUULG",
        "colab_type": "text"
      },
      "source": [
        "# **Training iterations**\n",
        "~~~~~~~~~~~~~~~~~~~\n",
        "\n",
        "It is finally time to tie the full training procedure together with the\n",
        "data. The ``trainIters`` function is responsible for running\n",
        "``n_iterations`` of training given the passed models, optimizers, data,\n",
        "etc. This function is quite self explanatory, as we have done the heavy\n",
        "lifting with the ``train`` function.\n",
        "\n",
        "One thing to note is that when we save our model, we save a tarball\n",
        "containing the encoder and decoder state_dicts (parameters), the\n",
        "optimizers’ state_dicts, the loss, the iteration, etc. Saving the model\n",
        "in this way will give us the ultimate flexibility with the checkpoint.\n",
        "After loading a checkpoint, we will be able to use the model parameters\n",
        "to run inference, or we can continue training right where we left off.\n",
        "\n",
        "\n"
      ]
    },
    {
      "cell_type": "code",
      "metadata": {
        "id": "tKtahxev9Juo",
        "colab_type": "code",
        "outputId": "cccb1cd6-5de2-4deb-a304-c1c1c49e40b1",
        "colab": {
          "base_uri": "https://localhost:8080/",
          "height": 35
        }
      },
      "source": [
        " max_target_len "
      ],
      "execution_count": 0,
      "outputs": [
        {
          "output_type": "execute_result",
          "data": {
            "text/plain": [
              "9"
            ]
          },
          "metadata": {
            "tags": []
          },
          "execution_count": 64
        }
      ]
    },
    {
      "cell_type": "code",
      "metadata": {
        "id": "mIVgVHbuUULH",
        "colab_type": "code",
        "colab": {}
      },
      "source": [
        "def trainIters(model_name, voc, pairs, encoder, decoder, encoder_optimizer, decoder_optimizer, embedding, encoder_n_layers, decoder_n_layers, save_dir, n_iteration, batch_size, print_every, save_every, clip, corpus_name, loadFilename):\n",
        "\n",
        "    # Load batches for each iteration\n",
        "    training_batches = [batch2TrainData(voc, [random.choice(pairs) for _ in range(batch_size)])\n",
        "                      for _ in range(n_iteration)]\n",
        "\n",
        "    # Initializations\n",
        "    print('Initializing ...')\n",
        "    start_iteration = 1\n",
        "    print_loss = 0\n",
        "    losslist = []\n",
        "    if loadFilename:\n",
        "        start_iteration = checkpoint['iteration'] + 1\n",
        "\n",
        "    \n",
        "    print(\"Training...\")\n",
        "    for iteration in range(start_iteration, n_iteration + 1):\n",
        "        training_batch = training_batches[iteration - 1]\n",
        "        \n",
        "        input_variable, lengths, target_variable, mask, max_target_len = training_batch\n",
        "\n",
        "        \n",
        "        loss = train(input_variable, lengths, target_variable, mask, max_target_len, encoder,\n",
        "                     decoder, embedding, encoder_optimizer, decoder_optimizer, batch_size, clip)\n",
        "        print_loss += loss\n",
        "\n",
        "        \n",
        "        if iteration % print_every == 0:\n",
        "            print_loss_avg = print_loss / print_every\n",
        "            print(\"Iteration: {}; Percent complete: {:.1f}%; Average loss: {:.4f}\".format(iteration, iteration / n_iteration * 100, print_loss_avg))\n",
        "            print_loss = 0\n",
        "            losslist.append(print_loss_avg)\n",
        "        \n",
        "        if (iteration % save_every == 0):\n",
        "            directory = os.path.join(save_dir, model_name, corpus_name, '{}-{}_{}'.format(encoder_n_layers, decoder_n_layers, hidden_size))\n",
        "            if not os.path.exists(directory):\n",
        "                os.makedirs(directory)\n",
        "            torch.save({\n",
        "                'iteration': iteration,\n",
        "                'en': encoder.state_dict(),\n",
        "                'de': decoder.state_dict(),\n",
        "                'en_opt': encoder_optimizer.state_dict(),\n",
        "                'de_opt': decoder_optimizer.state_dict(),\n",
        "                'loss': loss,\n",
        "                'voc_dict': voc.__dict__,\n",
        "                'embedding': embedding.state_dict()\n",
        "            }, os.path.join(directory, '{}_{}.tar'.format(iteration, 'checkpoint')))\n",
        "    return losslist"
      ],
      "execution_count": 0,
      "outputs": []
    },
    {
      "cell_type": "markdown",
      "metadata": {
        "id": "wxZdN1t5UULK",
        "colab_type": "text"
      },
      "source": [
        "# **Define Evaluation**\n",
        "-----------------\n",
        "\n",
        "After training a model, we want to be able to talk to the bot ourselves.\n",
        "First, we must define how we want the model to decode the encoded input.\n",
        "\n",
        "Greedy decoding\n",
        "~~~~~~~~~~~~~~~\n",
        "\n",
        "Greedy decoding is the decoding method that we use during training when\n",
        "we are **NOT** using teacher forcing. In other words, for each time\n",
        "step, we simply choose the word from ``decoder_output`` with the highest\n",
        "softmax value. This decoding method is optimal on a single time-step\n",
        "level.\n",
        "\n",
        "To facilite the greedy decoding operation, we define a\n",
        "``GreedySearchDecoder`` class. When run, an object of this class takes\n",
        "an input sequence (``input_seq``) of shape *(input_seq length, 1)*, a\n",
        "scalar input length (``input_length``) tensor, and a ``max_length`` to\n",
        "bound the response sentence length. The input sentence is evaluated\n",
        "using the following computational graph:\n",
        "\n",
        "**Computation Graph:**\n",
        "\n",
        "   1) Forward input through encoder model.\n",
        "   2) Prepare encoder's final hidden layer to be first hidden input to the decoder.\n",
        "   3) Initialize decoder's first input as SOS_token.\n",
        "   4) Initialize tensors to append decoded words to.\n",
        "   5) Iteratively decode one word token at a time:\n",
        "       a) Forward pass through decoder.\n",
        "       b) Obtain most likely word token and its softmax score.\n",
        "       c) Record token and score.\n",
        "       d) Prepare current token to be next decoder input.\n",
        "   6) Return collections of word tokens and scores.\n",
        "\n",
        "\n"
      ]
    },
    {
      "cell_type": "markdown",
      "metadata": {
        "id": "YO1l0Vhq6IMn",
        "colab_type": "text"
      },
      "source": [
        "# **Greedy decoder**"
      ]
    },
    {
      "cell_type": "code",
      "metadata": {
        "id": "EoW_JknuUULL",
        "colab_type": "code",
        "colab": {}
      },
      "source": [
        "class GreedySearchDecoder(nn.Module):\n",
        "    def __init__(self, encoder, decoder):\n",
        "        super(GreedySearchDecoder, self).__init__()\n",
        "        self.encoder = encoder\n",
        "        self.decoder = decoder\n",
        "\n",
        "    def forward(self, input_seq, input_length, max_length):\n",
        "        \n",
        "        encoder_outputs, encoder_hidden = self.encoder(input_seq, input_length)\n",
        "        \n",
        "        decoder_hidden = encoder_hidden[:decoder.n_layers]\n",
        "        \n",
        "        decoder_input = torch.ones(1, 1, device=device, dtype=torch.long) * SOS_token\n",
        "        \n",
        "        all_tokens = torch.zeros([0], device=device, dtype=torch.long)\n",
        "        all_scores = torch.zeros([0], device=device)\n",
        "       \n",
        "        for _ in range(max_length):\n",
        "            \n",
        "            decoder_output, decoder_hidden = self.decoder(decoder_input, decoder_hidden, encoder_outputs)\n",
        "            decoder_scores, decoder_input = torch.max(decoder_output, dim=1)\n",
        "            all_tokens = torch.cat((all_tokens, decoder_input), dim=0)\n",
        "            all_scores = torch.cat((all_scores, decoder_scores), dim=0)\n",
        "            \n",
        "            decoder_input = torch.unsqueeze(decoder_input, 0)\n",
        "        \n",
        "        return all_tokens, all_scores"
      ],
      "execution_count": 0,
      "outputs": []
    },
    {
      "cell_type": "markdown",
      "metadata": {
        "id": "9r1Kg8JYUULR",
        "colab_type": "text"
      },
      "source": [
        "Evaluate my text\n",
        "----\n",
        "\n",
        "Now that we have our decoding method defined, we can write functions for\n",
        "evaluating a string input sentence. The ``evaluate`` function manages\n",
        "the low-level process of handling the input sentence. We first format\n",
        "the sentence as an input batch of word indexes with *batch_size==1*. We\n",
        "do this by converting the words of the sentence to their corresponding\n",
        "indexes, and transposing the dimensions to prepare the tensor for our\n",
        "models. We also create a ``lengths`` tensor which contains the length of\n",
        "our input sentence. In this case, ``lengths`` is scalar because we are\n",
        "only evaluating one sentence at a time (batch_size==1). Next, we obtain\n",
        "the decoded response sentence tensor using our ``GreedySearchDecoder``\n",
        "object (``searcher``). Finally, we convert the response’s indexes to\n",
        "words and return the list of decoded words.\n",
        "\n",
        "``evaluateInput`` acts as the user interface for our chatbot. When\n",
        "called, an input text field will spawn in which we can enter our query\n",
        "sentence. After typing our input sentence and pressing *Enter*, our text\n",
        "is normalized in the same way as our training data, and is ultimately\n",
        "fed to the ``evaluate`` function to obtain a decoded output sentence. We\n",
        "loop this process, so we can keep chatting with our bot until we enter\n",
        "either “q” or “quit”.\n",
        "\n",
        "Finally, if a sentence is entered that contains a word that is not in\n",
        "the vocabulary, we handle this gracefully by printing an error message\n",
        "and prompting the user to enter another sentence.\n",
        "\n",
        "\n"
      ]
    },
    {
      "cell_type": "code",
      "metadata": {
        "id": "V2xV9PGnUULT",
        "colab_type": "code",
        "colab": {}
      },
      "source": [
        "def evaluate(encoder, decoder, searcher, voc, sentence, max_length=MAX_LENGTH):\n",
        "  \n",
        "    indexes_batch = [indexesFromSentence(voc, sentence)]\n",
        "    \n",
        "    lengths = torch.tensor([len(indexes) for indexes in indexes_batch])\n",
        "    \n",
        "    input_batch = torch.LongTensor(indexes_batch).transpose(0, 1)\n",
        "    \n",
        "    input_batch = input_batch.to(device)\n",
        "    lengths = lengths.to(device)\n",
        "    \n",
        "    tokens, scores = searcher(input_batch, lengths, max_length)\n",
        "    \n",
        "    decoded_words = [voc.index2word[token.item()] for token in tokens]\n",
        "    return decoded_words\n",
        "\n",
        "\n",
        "def evaluateInput(encoder, decoder, searcher, voc):\n",
        "    input_sentence = ''\n",
        "    while(1):\n",
        "        try:\n",
        "            \n",
        "            input_sentence = input('> ')\n",
        "            \n",
        "            if input_sentence == 'q' or input_sentence == 'quit': break\n",
        "            \n",
        "            input_sentence = normalizeString(input_sentence)\n",
        "            \n",
        "            output_words = evaluate(encoder, decoder, searcher, voc, input_sentence)\n",
        "            \n",
        "            output_words[:] = [x for x in output_words if not (x == 'EOS' or x == 'PAD')]\n",
        "            print('Bot:', ' '.join(output_words))\n",
        "\n",
        "        except KeyError:\n",
        "            print(\"Error: Encountered unknown word.\")      "
      ],
      "execution_count": 0,
      "outputs": []
    },
    {
      "cell_type": "markdown",
      "metadata": {
        "id": "7zaFMWYVUULW",
        "colab_type": "text"
      },
      "source": [
        "Run Model\n",
        "---------\n",
        "\n",
        "Finally, it is time to run our model!\n",
        "\n",
        "Regardless of whether we want to train or test the chatbot model, we\n",
        "must initialize the individual encoder and decoder models. In the\n",
        "following block, we set our desired configurations, choose to start from\n",
        "scratch or set a checkpoint to load from, and build and initialize the\n",
        "models. Feel free to play with different model configurations to\n",
        "optimize performance."
      ]
    },
    {
      "cell_type": "code",
      "metadata": {
        "id": "LFpsfSS2UULZ",
        "colab_type": "code",
        "colab": {}
      },
      "source": [
        "model_name = 'cb_model'\n",
        "attn_model = 'dot'\n",
        "\n",
        "hidden_size = 512\n",
        "encoder_n_layers = 2\n",
        "decoder_n_layers = 4\n",
        "dropout = 0.5\n",
        "batch_size = 256 \n",
        "loadFilename = None\n",
        "\n",
        "embedding = nn.Embedding(voc.num_words, hidden_size)\n",
        "encoder = EncoderRNN(hidden_size, embedding, encoder_n_layers, dropout)\n",
        "decoder = LuongAttnDecoderRNN(attn_model, embedding, hidden_size, voc.num_words, decoder_n_layers, dropout)\n",
        "encoder = encoder.to(device)\n",
        "decoder = decoder.to(device)"
      ],
      "execution_count": 0,
      "outputs": []
    },
    {
      "cell_type": "code",
      "metadata": {
        "id": "yUSGlN8wUULh",
        "colab_type": "code",
        "colab": {}
      },
      "source": [
        "save_dir = '/content/'\n",
        "clip = 50.0\n",
        "teacher_forcing_ratio = 1.0\n",
        "learning_rate = 0.0001\n",
        "decoder_learning_ratio = 5.0\n",
        "n_iteration = 6000\n",
        "print_every = 10\n",
        "save_every = 2000\n",
        "loadFilename = None\n",
        "corpus_name=\"Chat\"\n",
        "encoder.train()\n",
        "decoder.train()\n",
        "encoder_optimizer = optim.Adam(encoder.parameters(), lr=learning_rate)\n",
        "decoder_optimizer = optim.Adam(decoder.parameters(), lr=learning_rate * decoder_learning_ratio)\n",
        "print(\"Starting Training!\")\n",
        "lossvalues = trainIters(model_name, voc, pairs, encoder, decoder, encoder_optimizer, decoder_optimizer,\n",
        "           embedding, encoder_n_layers, decoder_n_layers, save_dir, n_iteration, batch_size,\n",
        "           print_every, save_every, clip, corpus_name, loadFilename)\n"
      ],
      "execution_count": 0,
      "outputs": []
    },
    {
      "cell_type": "code",
      "metadata": {
        "id": "0DF4o2q79_EY",
        "colab_type": "code",
        "colab": {
          "base_uri": "https://localhost:8080/",
          "height": 269
        },
        "outputId": "c3b9cacd-0440-4745-b2f1-42bce5e4fd56"
      },
      "source": [
        "import matplotlib.pyplot as plt\n",
        "plt.plot(losslist)\n",
        "plt.show()"
      ],
      "execution_count": 21,
      "outputs": [
        {
          "output_type": "display_data",
          "data": {
            "image/png": "[encoded data removed]",
            "text/plain": [
              "<Figure size 432x288 with 1 Axes>"
            ]
          },
          "metadata": {
            "tags": []
          }
        }
      ]
    },
    {
      "cell_type": "markdown",
      "metadata": {
        "id": "GoQNx3zOOVJ_",
        "colab_type": "text"
      },
      "source": [
        "# **Bleu score Calculation**"
      ]
    },
    {
      "cell_type": "code",
      "metadata": {
        "id": "hqBXEl1FBUQA",
        "colab_type": "code",
        "outputId": "0cef3420-8290-4d8b-83ef-96721bed741e",
        "colab": {
          "base_uri": "https://localhost:8080/",
          "height": 208
        }
      },
      "source": [
        "# Set dropout layers to eval mode\n",
        "encoder.eval()\n",
        "decoder.eval()\n",
        "\n",
        "# Initialize search module\n",
        "from nltk.translate.bleu_score import sentence_bleu,corpus_bleu\n",
        "from nltk.translate.bleu_score import SmoothingFunction\n",
        "\n",
        "\n",
        "searcher = GreedySearchDecoder(encoder, decoder)\n",
        "gram1_bleu_score = []\n",
        "gram2_bleu_score = []\n",
        "for i in range(0,len(testpairs),1):\n",
        "  \n",
        "  input_sentence = testpairs[i][0]\n",
        "  \n",
        "  reference = testpairs[i][1:]\n",
        "  templist = []\n",
        "  for k in range(len(reference)):\n",
        "    if(reference[k]!=''):\n",
        "      temp = reference[k].split(' ')\n",
        "      templist.append(temp)\n",
        "  \n",
        "  \n",
        "  input_sentence = normalizeString(input_sentence)\n",
        "  output_words = evaluate(encoder, decoder, searcher, voc, input_sentence)\n",
        "  output_words[:] = [x for x in output_words if not (x == 'EOS' or x == 'PAD')]\n",
        "  chencherry = SmoothingFunction()\n",
        "#   print(output_words)\n",
        "#   print(templist)\n",
        "  score1 = sentence_bleu(templist,output_words,weights=(1, 0, 0, 0) ,smoothing_function=chencherry.method1)\n",
        "  score2 = sentence_bleu(templist,output_words,weights=(0.5, 0.5, 0, 0),smoothing_function=chencherry.method1) \n",
        "  gram1_bleu_score.append(score1)\n",
        "  gram2_bleu_score.append(score2)\n",
        "  if i%1000 == 0:\n",
        "    print(i,sum(gram1_bleu_score)/len(gram1_bleu_score),sum(gram2_bleu_score)/len(gram2_bleu_score))\n",
        "print(\"Total Bleu Score for 1 grams on testing pairs: \", sum(gram1_bleu_score)/len(gram1_bleu_score) )  \n",
        "print(\"Total Bleu Score for 2 grams on testing pairs: \", sum(gram2_bleu_score)/len(gram2_bleu_score) )  "
      ],
      "execution_count": 23,
      "outputs": [
        {
          "output_type": "stream",
          "text": [
            "0 0.375 0.07319250547114\n",
            "1000 0.1555543786848805 0.06200107201161035\n",
            "2000 0.15234335542014982 0.06326021220801203\n",
            "3000 0.15217688402015359 0.06314149350546765\n",
            "4000 0.15465521912762803 0.06409627409652453\n",
            "5000 0.15349724916322363 0.0636849882874492\n",
            "6000 0.15157313445935083 0.061752013945194625\n",
            "7000 0.15550888926148548 0.0652569926081369\n",
            "8000 0.15467706062849873 0.06480583400086411\n",
            "Total Bleu Score for 1 grams on testing pairs:  0.15408493265355272\n",
            "Total Bleu Score for 2 grams on testing pairs:  0.0644786720255285\n"
          ],
          "name": "stdout"
        }
      ]
    },
    {
      "cell_type": "code",
      "metadata": {
        "id": "xdB43yBKUULm",
        "colab_type": "code",
        "outputId": "64faa646-d2bf-4090-c7ff-806bb184e4de",
        "colab": {
          "base_uri": "https://localhost:8080/",
          "height": 277
        }
      },
      "source": [
        "# Set dropout layers to eval mode\n",
        "encoder.eval()\n",
        "decoder.eval()\n",
        "\n",
        "# Initialize search module\n",
        "searcher = GreedySearchDecoder(encoder, decoder)\n",
        "\n",
        "# Begin chatting (uncomment and run the following line to begin)\n",
        "evaluateInput(encoder, decoder, searcher, voc)"
      ],
      "execution_count": 25,
      "outputs": [
        {
          "output_type": "stream",
          "text": [
            "> hi\n",
            "Bot: hi . . . . roses .\n",
            "> how are you\n",
            "Bot: i m not . too\n",
            "> so where are you going tonight\n",
            "Bot: down . . .\n",
            "> where\n",
            "Bot: out here . it s out .\n",
            "> can you help me out\n",
            "Bot: i m not the question .\n",
            "> yes i know \n",
            "Bot: you re a liar . .\n",
            "> no i am not\n",
            "Bot: you re a good good good good house .\n",
            "> q\n"
          ],
          "name": "stdout"
        }
      ]
    },
    {
      "cell_type": "code",
      "metadata": {
        "id": "HToYaFlo3xZM",
        "colab_type": "code",
        "colab": {}
      },
      "source": [
        ""
      ],
      "execution_count": 0,
      "outputs": []
    },
    {
      "cell_type": "code",
      "metadata": {
        "id": "N9Jc21wBUULp",
        "colab_type": "code",
        "colab": {}
      },
      "source": [
        ""
      ],
      "execution_count": 0,
      "outputs": []
    }
  ]
}